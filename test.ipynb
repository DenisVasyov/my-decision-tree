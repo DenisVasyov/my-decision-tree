{
 "cells": [
  {
   "cell_type": "code",
   "execution_count": 4,
   "metadata": {},
   "outputs": [],
   "source": [
    "import pandas as pd\n",
    "import numpy as np\n",
    "\n",
    "from MyDecisionTree import DecisionTree\n",
    "from sklearn.metrics import accuracy_score, mean_absolute_error"
   ]
  },
  {
   "cell_type": "markdown",
   "metadata": {},
   "source": [
    "Классификация"
   ]
  },
  {
   "cell_type": "code",
   "execution_count": 5,
   "metadata": {},
   "outputs": [],
   "source": [
    "dataset = pd.DataFrame({0: [1, 0, 1, 2, 1],\n",
    "                        1: [2, 5, 7, -2, 1],\n",
    "                        2: [-1, 0.5, 1.5, 6, 3],\n",
    "                        'target': [1, -1, 1, 1, -1]})\n",
    "X = dataset.drop(columns='target').values\n",
    "y = dataset['target'].values"
   ]
  },
  {
   "cell_type": "code",
   "execution_count": 49,
   "metadata": {
    "scrolled": true
   },
   "outputs": [],
   "source": [
    "np.random.seed(0)\n",
    "dataset = pd.DataFrame({0: np.random.uniform(-100, 100, size=100),\n",
    "                        1: np.random.uniform(-100, 100, size=100),\n",
    "                        2: np.random.uniform(-100, 100, size=100),\n",
    "                        'target': np.random.choice([-1, 1],size=100)})\n",
    "\n",
    "X = dataset.drop(columns='target').values\n",
    "y = dataset['target'].values"
   ]
  },
  {
   "cell_type": "code",
   "execution_count": 6,
   "metadata": {
    "scrolled": true
   },
   "outputs": [
    {
     "name": "stdout",
     "output_type": "stream",
     "text": [
      "Текущая глубина: 0\n",
      "Признак: 0\n",
      "Значение: 0.5\n",
      "Результат сравнения: True\n",
      "Пришли из ветки: None\n",
      "Данные:\n",
      "+----+-----+-----+-----+----------+\n",
      "|    |   0 |   1 |   2 |   target |\n",
      "|----+-----+-----+-----+----------|\n",
      "|  1 |   0 |   5 | 0.5 |       -1 |\n",
      "+----+-----+-----+-----+----------+\n",
      "Текущая глубина: 0\n",
      "Признак: 0\n",
      "Значение: 0.5\n",
      "Результат сравнения: False\n",
      "Пришли из ветки: None\n",
      "Данные:\n",
      "+----+-----+-----+------+----------+\n",
      "|    |   0 |   1 |    2 |   target |\n",
      "|----+-----+-----+------+----------|\n",
      "|  0 |   1 |   2 | -1   |        1 |\n",
      "|  2 |   1 |   7 |  1.5 |        1 |\n",
      "|  3 |   2 |  -2 |  6   |        1 |\n",
      "|  4 |   1 |   1 |  3   |       -1 |\n",
      "+----+-----+-----+------+----------+\n",
      "Текущая глубина: 1\n",
      "Признак: 1\n",
      "Значение: 1.5\n",
      "Результат сравнения: True\n",
      "Пришли из ветки: False\n",
      "Данные:\n",
      "+----+-----+-----+-----+----------+\n",
      "|    |   0 |   1 |   2 |   target |\n",
      "|----+-----+-----+-----+----------|\n",
      "|  3 |   2 |  -2 |   6 |        1 |\n",
      "|  4 |   1 |   1 |   3 |       -1 |\n",
      "+----+-----+-----+-----+----------+\n",
      "Текущая глубина: 2\n",
      "Признак: 0\n",
      "Значение: 1.5\n",
      "Результат сравнения: True\n",
      "Пришли из ветки: True\n",
      "Данные:\n",
      "+----+-----+-----+-----+----------+\n",
      "|    |   0 |   1 |   2 |   target |\n",
      "|----+-----+-----+-----+----------|\n",
      "|  4 |   1 |   1 |   3 |       -1 |\n",
      "+----+-----+-----+-----+----------+\n",
      "Текущая глубина: 2\n",
      "Признак: 0\n",
      "Значение: 1.5\n",
      "Результат сравнения: False\n",
      "Пришли из ветки: True\n",
      "Данные:\n",
      "+----+-----+-----+-----+----------+\n",
      "|    |   0 |   1 |   2 |   target |\n",
      "|----+-----+-----+-----+----------|\n",
      "|  3 |   2 |  -2 |   6 |        1 |\n",
      "+----+-----+-----+-----+----------+\n",
      "Текущая глубина: 1\n",
      "Признак: 1\n",
      "Значение: 1.5\n",
      "Результат сравнения: False\n",
      "Пришли из ветки: False\n",
      "Данные:\n",
      "+----+-----+-----+------+----------+\n",
      "|    |   0 |   1 |    2 |   target |\n",
      "|----+-----+-----+------+----------|\n",
      "|  0 |   1 |   2 | -1   |        1 |\n",
      "|  2 |   1 |   7 |  1.5 |        1 |\n",
      "+----+-----+-----+------+----------+\n"
     ]
    }
   ],
   "source": [
    "decision_tree = DecisionTree(max_depth=np.inf, min_samples_split=0, criterion='entropy')\n",
    "fitted_tree = decision_tree.fit(X, y)"
   ]
  },
  {
   "cell_type": "code",
   "execution_count": 7,
   "metadata": {
    "scrolled": true
   },
   "outputs": [
    {
     "data": {
      "text/plain": [
       "array([ 1., -1.,  1.,  1., -1.])"
      ]
     },
     "execution_count": 7,
     "metadata": {},
     "output_type": "execute_result"
    }
   ],
   "source": [
    "y_pred = decision_tree.predict(X, fitted_tree)\n",
    "y_pred"
   ]
  },
  {
   "cell_type": "code",
   "execution_count": 8,
   "metadata": {},
   "outputs": [
    {
     "data": {
      "text/plain": [
       "array([ 1, -1,  1,  1, -1], dtype=int64)"
      ]
     },
     "execution_count": 8,
     "metadata": {},
     "output_type": "execute_result"
    }
   ],
   "source": [
    "y"
   ]
  },
  {
   "cell_type": "code",
   "execution_count": 9,
   "metadata": {},
   "outputs": [
    {
     "data": {
      "text/plain": [
       "1.0"
      ]
     },
     "execution_count": 9,
     "metadata": {},
     "output_type": "execute_result"
    }
   ],
   "source": [
    "accuracy_score(y, y_pred)"
   ]
  },
  {
   "cell_type": "code",
   "execution_count": null,
   "metadata": {},
   "outputs": [],
   "source": []
  },
  {
   "cell_type": "code",
   "execution_count": null,
   "metadata": {},
   "outputs": [],
   "source": []
  },
  {
   "cell_type": "code",
   "execution_count": null,
   "metadata": {},
   "outputs": [],
   "source": []
  },
  {
   "cell_type": "markdown",
   "metadata": {},
   "source": [
    "Регрессия"
   ]
  },
  {
   "cell_type": "code",
   "execution_count": 16,
   "metadata": {},
   "outputs": [],
   "source": [
    "dataset = pd.DataFrame({0: [1, 0, 1, 2, 1],\n",
    "                        1: [2, 5, 7, -2, 1],\n",
    "                        2: [-1, 0.5, 1.5, 6, 3],\n",
    "                     'target': [6.5, 7, 10, -3.2, 1]})\n",
    "X = dataset.drop(columns='target').values\n",
    "y = dataset['target'].values"
   ]
  },
  {
   "cell_type": "code",
   "execution_count": 15,
   "metadata": {
    "scrolled": true
   },
   "outputs": [],
   "source": [
    "np.random.seed(0)\n",
    "dataset = pd.DataFrame({0: np.random.uniform(-100, 100, size=100),\n",
    "                        1: np.random.uniform(-100, 100, size=100),\n",
    "                        2: np.random.uniform(-100, 100, size=100),\n",
    "                        'target': np.random.uniform(-50, 50, size=100)})\n",
    "\n",
    "X = dataset.drop(columns='target').values\n",
    "y = dataset['target'].values"
   ]
  },
  {
   "cell_type": "code",
   "execution_count": null,
   "metadata": {},
   "outputs": [],
   "source": []
  },
  {
   "cell_type": "code",
   "execution_count": 11,
   "metadata": {
    "scrolled": true
   },
   "outputs": [
    {
     "name": "stdout",
     "output_type": "stream",
     "text": [
      "Текущая глубина: 0\n",
      "Признак: 1\n",
      "Значение: 2.0\n",
      "Результат сравнения: True\n",
      "Пришли из ветки: None\n",
      "Данные:\n",
      "+----+-----+-----+-----+----------+\n",
      "|    |   0 |   1 |   2 |   target |\n",
      "|----+-----+-----+-----+----------|\n",
      "|  3 |   2 |  -2 |   6 |     -3.2 |\n",
      "|  4 |   1 |   1 |   3 |      1   |\n",
      "+----+-----+-----+-----+----------+\n",
      "Текущая глубина: 1\n",
      "Признак: 0\n",
      "Значение: 2.0\n",
      "Результат сравнения: True\n",
      "Пришли из ветки: True\n",
      "Данные:\n",
      "+----+-----+-----+-----+----------+\n",
      "|    |   0 |   1 |   2 |   target |\n",
      "|----+-----+-----+-----+----------|\n",
      "|  4 |   1 |   1 |   3 |        1 |\n",
      "+----+-----+-----+-----+----------+\n",
      "Текущая глубина: 1\n",
      "Признак: 0\n",
      "Значение: 2.0\n",
      "Результат сравнения: False\n",
      "Пришли из ветки: True\n",
      "Данные:\n",
      "+----+-----+-----+-----+----------+\n",
      "|    |   0 |   1 |   2 |   target |\n",
      "|----+-----+-----+-----+----------|\n",
      "|  3 |   2 |  -2 |   6 |     -3.2 |\n",
      "+----+-----+-----+-----+----------+\n",
      "Текущая глубина: 0\n",
      "Признак: 1\n",
      "Значение: 2.0\n",
      "Результат сравнения: False\n",
      "Пришли из ветки: None\n",
      "Данные:\n",
      "+----+-----+-----+------+----------+\n",
      "|    |   0 |   1 |    2 |   target |\n",
      "|----+-----+-----+------+----------|\n",
      "|  0 |   1 |   2 | -1   |      6.5 |\n",
      "|  1 |   0 |   5 |  0.5 |      7   |\n",
      "|  2 |   1 |   7 |  1.5 |     10   |\n",
      "+----+-----+-----+------+----------+\n",
      "Текущая глубина: 1\n",
      "Признак: 1\n",
      "Значение: 7.0\n",
      "Результат сравнения: True\n",
      "Пришли из ветки: False\n",
      "Данные:\n",
      "+----+-----+-----+------+----------+\n",
      "|    |   0 |   1 |    2 |   target |\n",
      "|----+-----+-----+------+----------|\n",
      "|  0 |   1 |   2 | -1   |      6.5 |\n",
      "|  1 |   0 |   5 |  0.5 |      7   |\n",
      "+----+-----+-----+------+----------+\n",
      "Текущая глубина: 2\n",
      "Признак: 0\n",
      "Значение: 1.0\n",
      "Результат сравнения: True\n",
      "Пришли из ветки: True\n",
      "Данные:\n",
      "+----+-----+-----+-----+----------+\n",
      "|    |   0 |   1 |   2 |   target |\n",
      "|----+-----+-----+-----+----------|\n",
      "|  1 |   0 |   5 | 0.5 |        7 |\n",
      "+----+-----+-----+-----+----------+\n",
      "Текущая глубина: 2\n",
      "Признак: 0\n",
      "Значение: 1.0\n",
      "Результат сравнения: False\n",
      "Пришли из ветки: True\n",
      "Данные:\n",
      "+----+-----+-----+-----+----------+\n",
      "|    |   0 |   1 |   2 |   target |\n",
      "|----+-----+-----+-----+----------|\n",
      "|  0 |   1 |   2 |  -1 |      6.5 |\n",
      "+----+-----+-----+-----+----------+\n",
      "Текущая глубина: 1\n",
      "Признак: 1\n",
      "Значение: 7.0\n",
      "Результат сравнения: False\n",
      "Пришли из ветки: False\n",
      "Данные:\n",
      "+----+-----+-----+-----+----------+\n",
      "|    |   0 |   1 |   2 |   target |\n",
      "|----+-----+-----+-----+----------|\n",
      "|  2 |   1 |   7 | 1.5 |       10 |\n",
      "+----+-----+-----+-----+----------+\n"
     ]
    }
   ],
   "source": [
    "decision_tree = DecisionTree(max_depth=np.inf, min_samples_split=0, criterion='variance')\n",
    "fitted_tree = decision_tree.fit(X, y)"
   ]
  },
  {
   "cell_type": "code",
   "execution_count": 12,
   "metadata": {
    "scrolled": true
   },
   "outputs": [
    {
     "data": {
      "text/plain": [
       "array([  6.5,   7. ,  10. ,  -3.2,   1. ])"
      ]
     },
     "execution_count": 12,
     "metadata": {},
     "output_type": "execute_result"
    }
   ],
   "source": [
    "y_pred = decision_tree.predict(X, fitted_tree)\n",
    "y_pred"
   ]
  },
  {
   "cell_type": "code",
   "execution_count": 13,
   "metadata": {
    "scrolled": true
   },
   "outputs": [
    {
     "data": {
      "text/plain": [
       "array([  6.5,   7. ,  10. ,  -3.2,   1. ])"
      ]
     },
     "execution_count": 13,
     "metadata": {},
     "output_type": "execute_result"
    }
   ],
   "source": [
    "y"
   ]
  },
  {
   "cell_type": "code",
   "execution_count": 14,
   "metadata": {},
   "outputs": [
    {
     "data": {
      "text/plain": [
       "0.0"
      ]
     },
     "execution_count": 14,
     "metadata": {},
     "output_type": "execute_result"
    }
   ],
   "source": [
    "mean_absolute_error(y, y_pred)"
   ]
  },
  {
   "cell_type": "code",
   "execution_count": null,
   "metadata": {},
   "outputs": [],
   "source": []
  },
  {
   "cell_type": "code",
   "execution_count": null,
   "metadata": {},
   "outputs": [],
   "source": []
  },
  {
   "cell_type": "code",
   "execution_count": null,
   "metadata": {},
   "outputs": [],
   "source": []
  }
 ],
 "metadata": {
  "kernelspec": {
   "display_name": "Python 3",
   "language": "python",
   "name": "python3"
  },
  "language_info": {
   "codemirror_mode": {
    "name": "ipython",
    "version": 3
   },
   "file_extension": ".py",
   "mimetype": "text/x-python",
   "name": "python",
   "nbconvert_exporter": "python",
   "pygments_lexer": "ipython3",
   "version": "3.6.5"
  }
 },
 "nbformat": 4,
 "nbformat_minor": 2
}
